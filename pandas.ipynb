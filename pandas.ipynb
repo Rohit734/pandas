{
 "cells": [
  {
   "cell_type": "markdown",
   "id": "d006b7e1",
   "metadata": {},
   "source": [
    "# pandas"
   ]
  },
  {
   "cell_type": "code",
   "execution_count": 10,
   "id": "b72cd9b5",
   "metadata": {},
   "outputs": [
    {
     "data": {
      "text/plain": [
       "'2.0.3'"
      ]
     },
     "execution_count": 10,
     "metadata": {},
     "output_type": "execute_result"
    }
   ],
   "source": [
    "import pandas as pd\n",
    "import numpy as np\n",
    "pd.__version__\n",
    " "
   ]
  },
  {
   "cell_type": "markdown",
   "id": "c46863df",
   "metadata": {},
   "source": [
    "# creating SERIES\n",
    "- In pandas, a Series is a one-dimensional labeled array capable of holding data of any type (integer, string, float, etc.). It is similar to a Python list or NumPy array but with additional functionalities. Each element in a Series has a label, called the index. You can think of a Series as a column in a spreadsheet or a single column of data in a DataFrame (which is essentially a collection of Series)."
   ]
  },
  {
   "cell_type": "code",
   "execution_count": 4,
   "id": "77ff83ea",
   "metadata": {},
   "outputs": [
    {
     "data": {
      "text/plain": [
       "0    1\n",
       "1    2\n",
       "2    3\n",
       "3    4\n",
       "4    5\n",
       "dtype: int64"
      ]
     },
     "execution_count": 4,
     "metadata": {},
     "output_type": "execute_result"
    }
   ],
   "source": [
    "lst =[1,2,3,4,5]\n",
    "pd.Series(lst)"
   ]
  },
  {
   "cell_type": "code",
   "execution_count": 5,
   "id": "af5ebfba",
   "metadata": {},
   "outputs": [
    {
     "data": {
      "text/plain": [
       "0    1\n",
       "1    2\n",
       "2    3\n",
       "3    4\n",
       "4    5\n",
       "dtype: int64"
      ]
     },
     "execution_count": 5,
     "metadata": {},
     "output_type": "execute_result"
    }
   ],
   "source": [
    "arr = np.array(lst)\n",
    "pd.Series(arr)"
   ]
  },
  {
   "cell_type": "markdown",
   "id": "1a257aa7",
   "metadata": {},
   "source": [
    "#### giving index from our side by default it start from 0"
   ]
  },
  {
   "cell_type": "code",
   "execution_count": 9,
   "id": "4c6ed94e",
   "metadata": {},
   "outputs": [
    {
     "data": {
      "text/plain": [
       "23     Rohit\n",
       "25    Roshan\n",
       "dtype: object"
      ]
     },
     "execution_count": 9,
     "metadata": {},
     "output_type": "execute_result"
    }
   ],
   "source": [
    "pd.Series(data = [\"Rohit\",\"Roshan\"],index=[23,25])"
   ]
  },
  {
   "cell_type": "markdown",
   "id": "a56630a3",
   "metadata": {},
   "source": [
    "### series through dict"
   ]
  },
  {
   "cell_type": "code",
   "execution_count": 11,
   "id": "4244e7cc",
   "metadata": {},
   "outputs": [
    {
     "data": {
      "text/plain": [
       "1    a\n",
       "2    b\n",
       "dtype: object"
      ]
     },
     "execution_count": 11,
     "metadata": {},
     "output_type": "execute_result"
    }
   ],
   "source": [
    "d = {1:\"a\",2:\"b\"}\n",
    "pd.Series(d)"
   ]
  },
  {
   "cell_type": "markdown",
   "id": "b7a67fb4",
   "metadata": {},
   "source": [
    "### using repeat function along with creating a series\n",
    "pandas series.repeat()fun rep elements of a series. \n",
    "return a new series where each element of the current series is repeated consecutively a given times.\n"
   ]
  },
  {
   "cell_type": "code",
   "execution_count": 13,
   "id": "f5c331c4",
   "metadata": {},
   "outputs": [
    {
     "data": {
      "text/plain": [
       "0    5\n",
       "0    5\n",
       "0    5\n",
       "0    5\n",
       "0    5\n",
       "dtype: int64"
      ]
     },
     "execution_count": 13,
     "metadata": {},
     "output_type": "execute_result"
    }
   ],
   "source": [
    "pd.Series(5).repeat(5)"
   ]
  },
  {
   "cell_type": "markdown",
   "id": "2231b78e",
   "metadata": {},
   "source": [
    "#### we can use reset_index to get accurate index"
   ]
  },
  {
   "cell_type": "code",
   "execution_count": 18,
   "id": "0218850b",
   "metadata": {},
   "outputs": [
    {
     "data": {
      "text/plain": [
       "0    5\n",
       "1    5\n",
       "2    5\n",
       "3    5\n",
       "4    5\n",
       "dtype: int64"
      ]
     },
     "execution_count": 18,
     "metadata": {},
     "output_type": "execute_result"
    }
   ],
   "source": [
    "pd.Series(5).repeat(5).reset_index()"
   ]
  },
  {
   "cell_type": "code",
   "execution_count": 21,
   "id": "643d49d5",
   "metadata": {},
   "outputs": [
    {
     "name": "stdout",
     "output_type": "stream",
     "text": [
      "0    1\n",
      "1    1\n",
      "2    1\n",
      "3    1\n",
      "4    2\n",
      "5    2\n",
      "dtype: int64\n"
     ]
    }
   ],
   "source": [
    "data = pd.Series([1,2]).repeat([4,2]).reset_index(drop=True)\n",
    "print(data)"
   ]
  },
  {
   "cell_type": "code",
   "execution_count": 22,
   "id": "699ee6a3",
   "metadata": {},
   "outputs": [
    {
     "data": {
      "text/plain": [
       "2"
      ]
     },
     "execution_count": 22,
     "metadata": {},
     "output_type": "execute_result"
    }
   ],
   "source": [
    "#  Acccessing Element\n",
    "data[4]"
   ]
  },
  {
   "cell_type": "code",
   "execution_count": 33,
   "id": "7dea23fa",
   "metadata": {},
   "outputs": [
    {
     "data": {
      "text/plain": [
       "5    2\n",
       "4    2\n",
       "3    1\n",
       "2    1\n",
       "1    1\n",
       "0    1\n",
       "dtype: int64"
      ]
     },
     "execution_count": 33,
     "metadata": {},
     "output_type": "execute_result"
    }
   ],
   "source": [
    "data[::-1]"
   ]
  },
  {
   "cell_type": "markdown",
   "id": "5b5a8156",
   "metadata": {},
   "source": [
    "## Aggregate functions on pands\n",
    "- pandas Series.aggregate() functions using one or more operations over the specified axis in thegiven series objects .\n"
   ]
  },
  {
   "cell_type": "code",
   "execution_count": 45,
   "id": "1e56cfc4",
   "metadata": {},
   "outputs": [
    {
     "name": "stdout",
     "output_type": "stream",
     "text": [
      "0    6\n",
      "1    7\n",
      "2    9\n",
      "3    7\n",
      "4    2\n",
      "5    7\n",
      "6    5\n",
      "7    9\n",
      "dtype: int64\n"
     ]
    },
    {
     "data": {
      "text/plain": [
       "min     2\n",
       "max     9\n",
       "sum    52\n",
       "dtype: int64"
      ]
     },
     "execution_count": 45,
     "metadata": {},
     "output_type": "execute_result"
    }
   ],
   "source": [
    "np.random.seed(9)\n",
    "arr = np.random.randint(1,10,8,dtype=int)\n",
    "sr = pd.Series(arr)\n",
    "print(sr)\n",
    "sr.agg([min,max,sum])"
   ]
  },
  {
   "cell_type": "markdown",
   "id": "0009374f",
   "metadata": {},
   "source": [
    "### Series Absolute functions\n",
    "pandas Series.abs() method is used to get the absolute numeric value of each element in series/Data frame."
   ]
  },
  {
   "cell_type": "code",
   "execution_count": 46,
   "id": "7da7c091",
   "metadata": {},
   "outputs": [
    {
     "data": {
      "text/plain": [
       "0     1\n",
       "1     2\n",
       "2     3\n",
       "3     4\n",
       "4     5\n",
       "5    10\n",
       "dtype: int64"
      ]
     },
     "execution_count": 46,
     "metadata": {},
     "output_type": "execute_result"
    }
   ],
   "source": [
    "s = pd.Series([-1,2,-3,-4,5,-10])\n",
    "s.abs()"
   ]
  },
  {
   "cell_type": "markdown",
   "id": "2ac1a8b9",
   "metadata": {},
   "source": [
    "### Append series\n",
    "pandas.append() functions is used to concatenate two or more series \n"
   ]
  },
  {
   "cell_type": "code",
   "execution_count": 55,
   "id": "92b810f9",
   "metadata": {},
   "outputs": [],
   "source": [
    "sr1 = pd.Series([1,-2,3])\n",
    "sr2 = pd.Series([1,2,3])"
   ]
  },
  {
   "cell_type": "code",
   "execution_count": 58,
   "id": "17b8d9f1",
   "metadata": {},
   "outputs": [
    {
     "name": "stdout",
     "output_type": "stream",
     "text": [
      "0    1\n",
      "1   -2\n",
      "2    3\n",
      "0    1\n",
      "1    2\n",
      "2    3\n",
      "dtype: int64\n",
      "----------\n",
      "0    1\n",
      "1    2\n",
      "2    3\n",
      "0    1\n",
      "1   -2\n",
      "2    3\n",
      "dtype: int64\n"
     ]
    }
   ],
   "source": [
    "print(sr1._append(sr2))\n",
    "print(\"-\"*10)\n",
    "print(sr2._append(sr1))"
   ]
  },
  {
   "cell_type": "markdown",
   "id": "313e700f",
   "metadata": {},
   "source": [
    "### Astype function\n",
    "it is used to change data type of a series"
   ]
  },
  {
   "cell_type": "code",
   "execution_count": 66,
   "id": "dc7cb4b1",
   "metadata": {},
   "outputs": [
    {
     "name": "stdout",
     "output_type": "stream",
     "text": [
      "<class 'numpy.int64'>\n",
      "0    1.0\n",
      "1   -2.0\n",
      "2    3.0\n",
      "dtype: float64\n"
     ]
    }
   ],
   "source": [
    "print(type(sr1[0]))\n",
    "print(sr1.astype('float'))"
   ]
  },
  {
   "cell_type": "markdown",
   "id": "a1628180",
   "metadata": {},
   "source": [
    "### Between functions\n",
    "used on series to check which value lie between first and last"
   ]
  },
  {
   "cell_type": "code",
   "execution_count": 67,
   "id": "b8ab51f4",
   "metadata": {},
   "outputs": [
    {
     "data": {
      "text/plain": [
       "0    True\n",
       "1    True\n",
       "2    True\n",
       "3    True\n",
       "4    True\n",
       "5    True\n",
       "6    True\n",
       "7    True\n",
       "dtype: bool"
      ]
     },
     "execution_count": 67,
     "metadata": {},
     "output_type": "execute_result"
    }
   ],
   "source": [
    "sr = pd.Series([1,2,3,4,3,6,10,9])\n",
    "sr.between(1,10)"
   ]
  },
  {
   "cell_type": "markdown",
   "id": "7f82bf91",
   "metadata": {},
   "source": [
    "## All strings functions can be used to extract or modify texts in a series\n",
    " - Upper and Lower Function\n",
    " - Len function\n",
    " - Strip Function\n",
    " - Split Function\n",
    " - Contains Function\n",
    " - Replace Function\n",
    " - Count Function\n",
    " - Startswith and Endswith Function\n",
    " - Find Finction\n",
    "\n"
   ]
  },
  {
   "cell_type": "code",
   "execution_count": 69,
   "id": "08a983fe",
   "metadata": {},
   "outputs": [
    {
     "data": {
      "text/plain": [
       "0          Eshant Das\n",
       "1        Data Science\n",
       "2     Geeks for Geeks\n",
       "3         Hello World\n",
       "4    Machine Learning\n",
       "dtype: object"
      ]
     },
     "execution_count": 69,
     "metadata": {},
     "output_type": "execute_result"
    }
   ],
   "source": [
    "ser = pd.Series([\"Eshant Das\" , \"Data Science\" , \"Geeks for Geeks\" , 'Hello World' , 'Machine Learning'])\n",
    "ser"
   ]
  },
  {
   "cell_type": "code",
   "execution_count": 94,
   "id": "7111230d",
   "metadata": {},
   "outputs": [
    {
     "name": "stdout",
     "output_type": "stream",
     "text": [
      "0          ESHANT DAS\n",
      "1        DATA SCIENCE\n",
      "2     GEEKS FOR GEEKS\n",
      "3         HELLO WORLD\n",
      "4    MACHINE LEARNING\n",
      "dtype: object\n",
      "--------------------\n",
      "0          eshant das\n",
      "1        data science\n",
      "2     geeks for geeks\n",
      "3         hello world\n",
      "4    machine learning\n",
      "dtype: object\n",
      "--------------------\n",
      "0    10\n",
      "1    12\n",
      "2    15\n",
      "3    11\n",
      "4    16\n",
      "dtype: int64\n",
      "--------------------\n",
      "0          Eshant Das\n",
      "1        Data Science\n",
      "2     Geeks for Geeks\n",
      "3         Hello World\n",
      "4    Machine Learning\n",
      "dtype: object\n",
      "--------------------\n",
      "0    False\n",
      "1    False\n",
      "2     True\n",
      "3     True\n",
      "4     True\n",
      "dtype: bool\n",
      "--------------------\n",
      "0          Eshant Das\n",
      "1        Data Science\n",
      "2     Geeks foz Geeks\n",
      "3         Hello Wozld\n",
      "4    Machine Leazning\n",
      "dtype: object\n",
      "--------------------\n",
      "0    0\n",
      "1    0\n",
      "2    1\n",
      "3    1\n",
      "4    1\n",
      "dtype: int64\n",
      "--------------------\n",
      "0    False\n",
      "1     True\n",
      "2    False\n",
      "3    False\n",
      "4    False\n",
      "dtype: bool\n",
      "--------------------\n",
      "0     True\n",
      "1    False\n",
      "2     True\n",
      "3    False\n",
      "4    False\n",
      "dtype: bool\n",
      "--------------------\n",
      "0    1\n",
      "1   -1\n",
      "2    4\n",
      "3   -1\n",
      "4   -1\n",
      "dtype: int64\n"
     ]
    }
   ],
   "source": [
    "print(ser.str.upper())\n",
    "print(\"-\"*20)\n",
    "print(ser.str.lower())\n",
    "print(\"-\"*20)\n",
    "print(ser.str.len())\n",
    "print(\"-\"*20)\n",
    "print(ser.str.strip())\n",
    "print(\"-\"*20)\n",
    "print(ser.str.contains('r'))\n",
    "print(\"-\"*20)\n",
    "print(ser.str.replace('r','z'))\n",
    "print(\"-\"*20)\n",
    "print(ser.str.count('r'))\n",
    "print(\"-\"*20)\n",
    "print(ser.str.startswith('D'))\n",
    "print(\"-\"*20)\n",
    "print(ser.str.endswith('s'))\n",
    "print(\"-\"*20)\n",
    "print(ser.str.find('s'))"
   ]
  },
  {
   "cell_type": "markdown",
   "id": "5b985129",
   "metadata": {},
   "source": [
    "### split"
   ]
  },
  {
   "cell_type": "code",
   "execution_count": 93,
   "id": "25640e66",
   "metadata": {},
   "outputs": [
    {
     "name": "stdout",
     "output_type": "stream",
     "text": [
      "full name :  Eshant Das\n",
      "first name :  Eshant\n",
      "last name :  Das\n"
     ]
    }
   ],
   "source": [
    "print(\"full name : \",ser[0])\n",
    "print(\"first name : \",ser.str.split(' ')[0][0])\n",
    "print(\"last name : \",ser.str.split(' ')[0][1])"
   ]
  },
  {
   "cell_type": "markdown",
   "id": "4897e0bf",
   "metadata": {},
   "source": [
    "## Converting series to List"
   ]
  },
  {
   "cell_type": "code",
   "execution_count": null,
   "id": "e5045e41",
   "metadata": {},
   "outputs": [],
   "source": []
  }
 ],
 "metadata": {
  "kernelspec": {
   "display_name": "Python 3 (ipykernel)",
   "language": "python",
   "name": "python3"
  },
  "language_info": {
   "codemirror_mode": {
    "name": "ipython",
    "version": 3
   },
   "file_extension": ".py",
   "mimetype": "text/x-python",
   "name": "python",
   "nbconvert_exporter": "python",
   "pygments_lexer": "ipython3",
   "version": "3.11.5"
  }
 },
 "nbformat": 4,
 "nbformat_minor": 5
}
